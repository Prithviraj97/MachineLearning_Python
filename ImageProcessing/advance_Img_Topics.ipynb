{
 "cells": [
  {
   "cell_type": "markdown",
   "metadata": {},
   "source": [
    "Finding the edges with Canny"
   ]
  },
  {
   "cell_type": "code",
   "execution_count": null,
   "metadata": {},
   "outputs": [],
   "source": []
  },
  {
   "cell_type": "code",
   "execution_count": null,
   "metadata": {},
   "outputs": [],
   "source": [
    "# Import the canny edge detector \n",
    "from skimage.feature import canny\n",
    "\n",
    "# Convert image to grayscale\n",
    "grapefruit = color.rgb2gray(grapefruit)\n",
    "\n",
    "# Apply canny edge detector\n",
    "canny_edges = canny(grapefruit)\n",
    "\n",
    "# Show resulting image\n",
    "show_image(canny_edges, \"Edges with Canny\")"
   ]
  },
  {
   "cell_type": "code",
   "execution_count": null,
   "metadata": {},
   "outputs": [],
   "source": [
    "# Apply canny edge detector with a sigma of 1.8\n",
    "edges_1_8 = canny(grapefruit, sigma=1.8)\n",
    "# Apply canny edge detector with a sigma of 2.2\n",
    "edges_2_2 = canny(grapefruit, sigma=2.2)\n",
    "# Show resulting images\n",
    "show_image(edges_1_8, \"Sigma of 1.8\")\n",
    "show_image(edges_2_2, \"Sigma of 2.2\")"
   ]
  },
  {
   "cell_type": "code",
   "execution_count": null,
   "metadata": {},
   "outputs": [],
   "source": []
  }
 ],
 "metadata": {
  "kernelspec": {
   "display_name": "MSThesisWorks",
   "language": "python",
   "name": "python3"
  },
  "language_info": {
   "name": "python",
   "version": "3.10.11"
  }
 },
 "nbformat": 4,
 "nbformat_minor": 2
}
