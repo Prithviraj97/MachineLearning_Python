{
 "cells": [
  {
   "cell_type": "code",
   "execution_count": null,
   "metadata": {},
   "outputs": [],
   "source": [
    "#Filtering, Contrasts\n",
    "# Import the color module\n",
    "from skimage import color\n",
    "\n",
    "# Import the filters module and sobel function\n",
    "from skimage.filters import sobel\n",
    "\n",
    "# Make the image grayscale\n",
    "soaps_image_gray = color.rgb2gray(soaps_image)\n",
    "\n",
    "# Apply edge detection filter\n",
    "edge_sobel = sobel(soaps_image_gray)\n",
    "\n",
    "# Show original and resulting image to compare\n",
    "show_image(soaps_image, \"Original\")\n",
    "show_image(edge_sobel, \"Edges with Sobel\")"
   ]
  }
 ],
 "metadata": {
  "kernelspec": {
   "display_name": "MSThesisWorks",
   "language": "python",
   "name": "python3"
  },
  "language_info": {
   "name": "python",
   "version": "3.10.11"
  }
 },
 "nbformat": 4,
 "nbformat_minor": 2
}
