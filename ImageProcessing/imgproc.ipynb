{
 "cells": [
  {
   "cell_type": "code",
   "execution_count": null,
   "metadata": {},
   "outputs": [],
   "source": [
    "#Filtering, Contrasts\n",
    "# Import the color module\n",
    "from skimage import color\n",
    "\n",
    "# Import the filters module and sobel function\n",
    "from skimage.filters import sobel\n",
    "\n",
    "# Make the image grayscale\n",
    "soaps_image_gray = color.rgb2gray(soaps_image)\n",
    "\n",
    "# Apply edge detection filter\n",
    "edge_sobel = sobel(soaps_image_gray)\n",
    "\n",
    "# Show original and resulting image to compare\n",
    "show_image(soaps_image, \"Original\")\n",
    "show_image(edge_sobel, \"Edges with Sobel\")"
   ]
  },
  {
   "cell_type": "code",
   "execution_count": null,
   "metadata": {},
   "outputs": [],
   "source": [
    "# Import Gaussian filter \n",
    "from skimage.filters import gaussian\n",
    "\n",
    "# Apply filter\n",
    "gaussian_image = gaussian(building_image, multichannel=True)\n",
    "\n",
    "# Show original and resulting image to compare\n",
    "show_image(building_image, \"Original\")\n",
    "show_image(gaussian_image, \"Reduced sharpness Gaussian\")"
   ]
  },
  {
   "cell_type": "code",
   "execution_count": null,
   "metadata": {},
   "outputs": [],
   "source": [
    "# Import the required module\n",
    "from skimage import exposure\n",
    "\n",
    "# Show original x-ray image and its histogram\n",
    "show_image(chest_xray_image, 'Original x-ray')\n",
    "\n",
    "plt.title('Histogram of image')\n",
    "plt.hist(chest_xray_image.ravel(), bins=256)\n",
    "plt.show()\n",
    "\n",
    "# Use histogram equalization to improve the contrast\n",
    "xray_image_eq =  exposure.equalize_hist(chest_xray_image)\n",
    "\n",
    "# Show the resulting image\n",
    "show_image(xray_image_eq, 'Resulting image')"
   ]
  },
  {
   "cell_type": "code",
   "execution_count": null,
   "metadata": {},
   "outputs": [],
   "source": [
    "# Import the required module\n",
    "from skimage import exposure\n",
    "\n",
    "# Use histogram equalization to improve the contrast\n",
    "image_eq =  exposure.equalize_adapthist(image_aerial, clip_limit=0.03)\n",
    "\n",
    "# Show the original and resulting image\n",
    "show_image(image_aerial, 'Original')\n",
    "show_image(image_eq, 'Resulting image')"
   ]
  },
  {
   "cell_type": "code",
   "execution_count": null,
   "metadata": {},
   "outputs": [],
   "source": [
    "# Import the necessary modules\n",
    "from skimage import data, exposure\n",
    "\n",
    "# Load the image\n",
    "original_image = data.coffee()\n",
    "\n",
    "# Apply the adaptive equalization on the original image\n",
    "adapthist_eq_image = exposure.equalize_adapthist(original_image, clip_limit=0.03)\n",
    "\n",
    "# Compare the original image to the equalized\n",
    "show_image(original_image)\n",
    "show_image(adapthist_eq_image, '#ImageProcessingDatacamp')"
   ]
  }
 ],
 "metadata": {
  "kernelspec": {
   "display_name": "MSThesisWorks",
   "language": "python",
   "name": "python3"
  },
  "language_info": {
   "name": "python",
   "version": "3.10.11"
  }
 },
 "nbformat": 4,
 "nbformat_minor": 2
}
