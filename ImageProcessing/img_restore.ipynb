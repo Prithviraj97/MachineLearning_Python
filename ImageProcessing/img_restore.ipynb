{
 "cells": [
  {
   "cell_type": "code",
   "execution_count": null,
   "metadata": {},
   "outputs": [],
   "source": [
    "#image restoration\n",
    "import numpy as np\n",
    "import matplotlib.pyplot as plt\n",
    "def get_mask(image):\n",
    "    ''' Creates mask with four defect regions '''\n",
    "    mask = np.zeros(image.shape[:-1])\n",
    "    mask[20:60, 0:20] = 1\n",
    "    mask[160:180, 70:155] = 1\n",
    "    mask[30:90, 310:350] = 1\n",
    "    mask[350:390, 70:90] = 1\n",
    "    return mask\n",
    "mask = get_mask(defect_image)\n",
    "# Import the module from restoration\n",
    "from skimage.restoration import inpaint\n",
    "\n",
    "# Show the defective image\n",
    "show_image(defect_image, 'Image to restore')\n",
    "\n",
    "# Apply the restoration function to the image using the mask\n",
    "restored_image = inpaint.inpaint_biharmonic(defect_image, mask, multichannel=True)\n",
    "show_image(restored_image)"
   ]
  },
  {
   "cell_type": "code",
   "execution_count": null,
   "metadata": {},
   "outputs": [],
   "source": [
    "# Initialize the mask\n",
    "mask = np.zeros(image_with_logo.shape[:-1])\n",
    "\n",
    "# Set the pixels where the logo is to 1\n",
    "mask[210:290, 360:425] = 1\n",
    "\n",
    "# Apply inpainting to remove the logo\n",
    "image_logo_removed = inpaint.inpaint_biharmonic(image_with_logo,\n",
    "                                  mask,\n",
    "                                  multichannel=True)\n",
    "\n",
    "# Show the original and logo removed images\n",
    "show_image(image_with_logo, 'Image with logo')\n",
    "show_image(image_logo_removed, 'Image with logo removed')"
   ]
  },
  {
   "cell_type": "markdown",
   "metadata": {},
   "source": [
    "Noise and Denoising"
   ]
  },
  {
   "cell_type": "code",
   "execution_count": null,
   "metadata": {},
   "outputs": [],
   "source": [
    "def show_image(image, title='Original'):\n",
    "    plt.imshow(image, cmap='gray')\n",
    "    plt.title(title)\n",
    "    plt.axis('off')\n",
    "    plt.show()\n",
    "\n",
    "# Import the module and function\n",
    "from skimage.util import random_noise\n",
    "# Add noise to the image\n",
    "noisy_image = random_noise(fruit_image)\n",
    "\n",
    "# Show original and resulting image\n",
    "show_image(fruit_image, 'Original')\n",
    "show_image(noisy_image, 'Noisy image')"
   ]
  },
  {
   "cell_type": "code",
   "execution_count": null,
   "metadata": {},
   "outputs": [],
   "source": [
    "# Import the module and function\n",
    "from skimage.restoration import denoise_tv_chambolle\n",
    "\n",
    "# Apply total variation filter denoising\n",
    "denoised_image = denoise_tv_chambolle(noisy_image, \n",
    "                                      multichannel=True)\n",
    "\n",
    "# Show the noisy and denoised images\n",
    "show_image(noisy_image, 'Noisy')\n",
    "show_image(denoised_image, 'Denoised image')"
   ]
  },
  {
   "cell_type": "code",
   "execution_count": null,
   "metadata": {},
   "outputs": [],
   "source": [
    "# Import the module and function\n",
    "from skimage.restoration import denoise_tv_chambolle\n",
    "\n",
    "# Apply total variation filter denoising\n",
    "denoised_image = denoise_tv_chambolle(noisy_image, \n",
    "                                      multichannel=True)\n",
    "\n",
    "# Show the noisy and denoised images\n",
    "show_image(noisy_image, 'Noisy')\n",
    "show_image(denoised_image, 'Denoised image')"
   ]
  },
  {
   "cell_type": "markdown",
   "metadata": {},
   "source": [
    "Superpixel and Segmentation"
   ]
  },
  {
   "cell_type": "code",
   "execution_count": null,
   "metadata": {},
   "outputs": [],
   "source": [
    "# Import the slic function from segmentation module\n",
    "from skimage.segmentation import slic\n",
    "\n",
    "# Import the label2rgb function from color module\n",
    "from skimage.color import label2rgb\n",
    "\n",
    "# Obtain the segmentation with 400 regions\n",
    "segments = slic(face_image, n_segments= 400)\n",
    "\n",
    "# Put segments on top of original image to compare\n",
    "segmented_image = label2rgb(segments, face_image, kind='avg')\n",
    "\n",
    "# Show the segmented image\n",
    "show_image(segmented_image, \"Segmented image, 400 superpixels\")"
   ]
  },
  {
   "cell_type": "markdown",
   "metadata": {},
   "source": [
    "Finding Contours"
   ]
  },
  {
   "cell_type": "code",
   "execution_count": null,
   "metadata": {},
   "outputs": [],
   "source": [
    "def show_image_contour(image, contours):\n",
    "    plt.figure()\n",
    "    for n, contour in enumerate(contours):\n",
    "        plt.plot(contour[:, 1], contour[:, 0], linewidth=3)\n",
    "    plt.imshow(image, interpolation='nearest', cmap='gray_r')\n",
    "    plt.title('Contours')\n",
    "    plt.axis('off')\n",
    "    plt.show()\n",
    "\n",
    "# Import the modules\n",
    "from skimage import data, measure\n",
    "\n",
    "# Obtain the horse image\n",
    "horse_image = data.horse()\n",
    "\n",
    "# Find the contours with a constant level value of 0.8\n",
    "contours = measure.find_contours(horse_image, 0.8)\n",
    "\n",
    "# Shows the image with contours found\n",
    "show_image_contour(horse_image, contours)"
   ]
  },
  {
   "cell_type": "code",
   "execution_count": null,
   "metadata": {},
   "outputs": [],
   "source": [
    "# Make the image grayscale\n",
    "image_dice = color.rgb2gray(image_dice)\n",
    "# Obtain the optimal thresh value\n",
    "thresh = filters.threshold_otsu(image_dice)\n",
    "# Apply thresholding\n",
    "binary = image_dice > thresh\n",
    "# Find contours at a constant value of 0.8\n",
    "contours = measure.find_contours(binary, 0.8)\n",
    "# Show the image\n",
    "show_image_contour(image_dice, contours)"
   ]
  },
  {
   "cell_type": "code",
   "execution_count": null,
   "metadata": {},
   "outputs": [],
   "source": [
    "# Create list with the shape of each contour\n",
    "shape_contours = [cnt.shape[0] for cnt in contours]\n",
    "# Set 50 as the maximum size of the dots shape\n",
    "max_dots_shape = 50\n",
    "# Count dots in contours excluding bigger than dots size\n",
    "dots_contours = [cnt for cnt in contours if np.shape(cnt)[0] < max_dots_shape]\n",
    "# Shows all contours found \n",
    "show_image_contour(binary, contours)\n",
    "# Print the dice's number\n",
    "print(\"Dice's dots number: {}. \".format(len(dots_contours)))"
   ]
  }
 ],
 "metadata": {
  "kernelspec": {
   "display_name": "MSThesisWorks",
   "language": "python",
   "name": "python3"
  },
  "language_info": {
   "name": "python",
   "version": "3.10.11"
  }
 },
 "nbformat": 4,
 "nbformat_minor": 2
}
