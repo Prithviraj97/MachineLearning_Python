{
 "cells": [
  {
   "cell_type": "markdown",
   "metadata": {},
   "source": [
    "Objects and Labels - measure one or more component parts of your image"
   ]
  },
  {
   "cell_type": "code",
   "execution_count": null,
   "metadata": {},
   "outputs": [],
   "source": [
    "import imageio\n",
    "import numpy as np\n",
    "import scipy.ndimage as ndi\n",
    "import matplotlib.pyplot as plt\n",
    "\n",
    "# Smooth intensity values\n",
    "im_filt = ndi.median_filter(im, size=3)\n",
    "\n",
    "# Select high-intensity pixels\n",
    "mask_start = np.where(im_filt>60, 1, 0)\n",
    "mask = ndi.binary_closing(mask_start)\n",
    "\n",
    "# Label the objects in \"mask\"\n",
    "labels, nlabels = ndi.label(mask)\n",
    "print('Num. Labels:', nlabels)\n",
    "\n",
    "# Create a `labels` overlay\n",
    "overlay = np.where(labels>0, labels, np.nan)\n",
    "\n",
    "# Use imshow to plot the overlay\n",
    "plt.imshow(overlay, cmap='rainbow', alpha=0.75)\n",
    "format_and_render_plot()"
   ]
  },
  {
   "cell_type": "code",
   "execution_count": null,
   "metadata": {},
   "outputs": [],
   "source": [
    "# Label the image \"mask\"\n",
    "labels, nlabels = ndi.label(mask)\n",
    "\n",
    "# Select left ventricle pixels\n",
    "lv_val = labels[128, 128]\n",
    "lv_mask = np.where(labels==lv_val, 1, np.nan)\n",
    "\n",
    "# Overlay selected label\n",
    "plt.imshow(lv_mask, cmap='rainbow')\n",
    "plt.show()"
   ]
  },
  {
   "cell_type": "code",
   "execution_count": null,
   "metadata": {},
   "outputs": [],
   "source": [
    "# Create left ventricle mask\n",
    "labels, nlabels = ndi.label(mask)\n",
    "lv_val = labels[128, 128]\n",
    "lv_mask = np.where(labels == lv_val, 1, 0)\n",
    "\n",
    "# Find bounding box of left ventricle\n",
    "bboxes = ndi.find_objects(lv_mask)\n",
    "print('Number of objects:', len(bboxes))\n",
    "print('Indices for first box:', bboxes[0])\n",
    "\n",
    "# Crop to the left ventricle (index 0)\n",
    "im_lv = im[bboxes[0]]\n",
    "\n",
    "# Plot the cropped image\n",
    "plt.imshow(im_lv)\n",
    "format_and_render_plot()"
   ]
  }
 ],
 "metadata": {
  "kernelspec": {
   "display_name": "MSThesisWorks",
   "language": "python",
   "name": "python3"
  },
  "language_info": {
   "name": "python",
   "version": "3.10.11"
  }
 },
 "nbformat": 4,
 "nbformat_minor": 2
}
