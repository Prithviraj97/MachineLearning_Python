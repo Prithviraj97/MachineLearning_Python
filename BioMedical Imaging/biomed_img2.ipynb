{
 "cells": [
  {
   "cell_type": "markdown",
   "metadata": {},
   "source": [
    "Objects and Labels - measure one or more component parts of your image"
   ]
  },
  {
   "cell_type": "code",
   "execution_count": null,
   "metadata": {},
   "outputs": [],
   "source": [
    "import imageio\n",
    "import numpy as np\n",
    "import scipy.ndimage as ndi\n",
    "import matplotlib.pyplot as plt\n",
    "\n",
    "def format_and_render_plot():\n",
    "    '''Custom function to simplify common formatting operations for exercises. \n",
    "    Operations include: \n",
    "    1. Looping through `fig.axes` and turning off axis grid.\n",
    "    2. Calling `plt.tight_layout` to improve subplot spacing.\n",
    "    3. Calling `plt.show()` to render plot.'''\n",
    "    fig = plt.gcf()\n",
    "    for ax in fig.axes:\n",
    "        ax.axis('off')\n",
    "    plt.tight_layout()\n",
    "    plt.show()"
   ]
  },
  {
   "cell_type": "code",
   "execution_count": null,
   "metadata": {},
   "outputs": [],
   "source": [
    "# Smooth intensity values\n",
    "im_filt = ndi.median_filter(im, size=3)\n",
    "\n",
    "# Select high-intensity pixels\n",
    "mask_start = np.where(im_filt>60, 1, 0)\n",
    "mask = ndi.binary_closing(mask_start)\n",
    "\n",
    "# Label the objects in \"mask\"\n",
    "labels, nlabels = ndi.label(mask)\n",
    "print('Num. Labels:', nlabels)\n",
    "\n",
    "# Create a `labels` overlay\n",
    "overlay = np.where(labels>0, labels, np.nan)\n",
    "\n",
    "# Use imshow to plot the overlay\n",
    "plt.imshow(overlay, cmap='rainbow', alpha=0.75)\n",
    "format_and_render_plot()"
   ]
  },
  {
   "cell_type": "code",
   "execution_count": null,
   "metadata": {},
   "outputs": [],
   "source": [
    "# Label the image \"mask\"\n",
    "labels, nlabels = ndi.label(mask)\n",
    "\n",
    "# Select left ventricle pixels\n",
    "lv_val = labels[128, 128]\n",
    "lv_mask = np.where(labels==lv_val, 1, np.nan)\n",
    "\n",
    "# Overlay selected label\n",
    "plt.imshow(lv_mask, cmap='rainbow')\n",
    "plt.show()"
   ]
  },
  {
   "cell_type": "code",
   "execution_count": null,
   "metadata": {},
   "outputs": [],
   "source": [
    "# Create left ventricle mask\n",
    "labels, nlabels = ndi.label(mask)\n",
    "lv_val = labels[128, 128]\n",
    "lv_mask = np.where(labels == lv_val, 1, 0)\n",
    "\n",
    "# Find bounding box of left ventricle\n",
    "bboxes = ndi.find_objects(lv_mask)\n",
    "print('Number of objects:', len(bboxes))\n",
    "print('Indices for first box:', bboxes[0])\n",
    "\n",
    "# Crop to the left ventricle (index 0)\n",
    "im_lv = im[bboxes[0]]\n",
    "\n",
    "# Plot the cropped image\n",
    "plt.imshow(im_lv)\n",
    "format_and_render_plot()"
   ]
  },
  {
   "cell_type": "markdown",
   "metadata": {},
   "source": [
    "Measuring Intensity"
   ]
  },
  {
   "cell_type": "code",
   "execution_count": null,
   "metadata": {},
   "outputs": [],
   "source": [
    "# Variance for all pixels\n",
    "var_all = ndi.variance(vol)\n",
    "print('All pixels:', var_all)\n",
    "\n",
    "# Variance for labeled pixels\n",
    "var_labels = ndi.variance(vol, labels)\n",
    "print('Labeled pixels:', var_labels)\n",
    "\n",
    "# Variance for each object\n",
    "var_objects = ndi.variance(vol, labels, index=[1,2])\n",
    "print('Left ventricle:', var_objects[0])\n",
    "print('Other tissue:', var_objects[1])"
   ]
  },
  {
   "cell_type": "code",
   "execution_count": null,
   "metadata": {},
   "outputs": [],
   "source": [
    "# Create histograms for selected pixels\n",
    "hist1 = ndi.histogram(vol, min=0, max=255, bins=256)\n",
    "hist2 = ndi.histogram(vol, 0, 255, 256, labels=labels)\n",
    "hist3 = ndi.histogram(vol, 0, 255, 256, labels=labels, index=1)\n",
    "\n",
    "# Plot the histogram density\n",
    "plt.plot(hist1 / hist1.sum(), label='All pixels')\n",
    "plt.plot(hist2/hist2.sum(), label='All labeled pixels')\n",
    "plt.plot(hist3/hist3.sum(), label='Left ventricle')\n",
    "format_and_render_plot()"
   ]
  },
  {
   "cell_type": "markdown",
   "metadata": {},
   "source": [
    "Morphology"
   ]
  },
  {
   "cell_type": "code",
   "execution_count": null,
   "metadata": {},
   "outputs": [],
   "source": [
    "# Calculate left ventricle distances\n",
    "lv = np.where(labels==1, 1, 0)\n",
    "dists = ndi.distance_transform_edt(lv, sampling=vol.meta['sampling'])\n",
    "\n",
    "# Report on distances\n",
    "print('Max distance (mm):', ndi.maximum(dists))\n",
    "print('Max location:', ndi.maximum_position(dists))\n",
    "\n",
    "# Plot overlay of distances\n",
    "overlay = np.where(dists[5] > 0, dists[5], np.nan) \n",
    "plt.imshow(overlay, cmap='hot')\n",
    "format_and_render_plot()"
   ]
  },
  {
   "cell_type": "code",
   "execution_count": null,
   "metadata": {},
   "outputs": [],
   "source": [
    "# Extract centers of mass for objects 1 and 2\n",
    "coms = ndi.center_of_mass(vol, labels, index=[1,2])\n",
    "print('Label 1 center:', coms[0])\n",
    "print('Label 2 center:', coms[1])\n",
    "\n",
    "# Add marks to plot\n",
    "for c0, c1, c2 in coms:\n",
    "    plt.scatter(c2, c1, s=100, marker='o')\n",
    "plt.show()"
   ]
  },
  {
   "cell_type": "markdown",
   "metadata": {},
   "source": [
    "Measuring time- how to measure the ejection fraction of the person's heart"
   ]
  },
  {
   "cell_type": "code",
   "execution_count": null,
   "metadata": {},
   "outputs": [],
   "source": [
    "# Create an empty time series\n",
    "ts = np.zeros(20)\n",
    "\n",
    "# Calculate volume at each voxel\n",
    "d0, d1, d2, d3 = vol_ts.meta['sampling']\n",
    "dvoxel = d1*d2*d3\n",
    "\n",
    "# Loop over the labeled arrays\n",
    "for t in range(20):\n",
    "    nvoxels = ndi.sum(1, labels[t], index=1)\n",
    "    ts[t] = nvoxels*dvoxel\n",
    "\n",
    "# Plot the data\n",
    "plt.plot(ts)\n",
    "format_and_render_plot()"
   ]
  },
  {
   "cell_type": "code",
   "execution_count": null,
   "metadata": {},
   "outputs": [],
   "source": [
    "# Get index of max and min volumes\n",
    "tmax = np.argmax(ts)\n",
    "tmin = np.argmin(ts)\n",
    "\n",
    "# Plot the largest and smallest volumes\n",
    "fig, axes = plt.subplots(2,1)\n",
    "axes[0].imshow(vol_ts[tmax,4], vmax=160)\n",
    "axes[1].imshow(vol_ts[tmin,4], vmax=160)\n",
    "format_and_render_plots()\n",
    "\n",
    "# Calculate ejection fraction\n",
    "ej_vol = (ts.max()-ts.min())\n",
    "ej_frac = ej_vol/ts.max()\n",
    "print('Est. ejection volume (mm^3):', ej_vol)\n",
    "print('Est. ejection fraction:', ej_frac)"
   ]
  },
  {
   "cell_type": "markdown",
   "metadata": {},
   "source": [
    "Spatial Transformation"
   ]
  },
  {
   "cell_type": "code",
   "execution_count": null,
   "metadata": {},
   "outputs": [],
   "source": [
    "# Find image center of mass\n",
    "com = ndi.center_of_mass(im)\n",
    "\n",
    "# Calculate amount of shift needed\n",
    "d0 = 128 - com[0]\n",
    "d1 = 128 - com[1]\n",
    "\n",
    "# Translate the brain towards the center\n",
    "xfm = ndi.shift(im, shift=(d0, d1))\n",
    "\n",
    "# Plot the original and adjusted images\n",
    "fig, axes = plt.subplots(2,1)\n",
    "axes[0].imshow(im)\n",
    "axes[1].imshow(xfm)\n",
    "format_and_render_plot()"
   ]
  },
  {
   "cell_type": "code",
   "execution_count": null,
   "metadata": {},
   "outputs": [],
   "source": [
    "# Shift the image towards the center\n",
    "xfm = ndi.shift(im, shift=(-20, -20))\n",
    "\n",
    "# Rotate the shifted image\n",
    "xfm = ndi.rotate(xfm, angle=-30, reshape=False)\n",
    "\n",
    "# Plot the original and transformed images\n",
    "fig, axes = plt.subplots(2, 1)\n",
    "axes[0].imshow(im)\n",
    "axes[1].imshow(xfm)\n",
    "format_and_render_plot()"
   ]
  },
  {
   "cell_type": "markdown",
   "metadata": {},
   "source": [
    "Resampling and Interpolation"
   ]
  },
  {
   "cell_type": "code",
   "execution_count": null,
   "metadata": {},
   "outputs": [],
   "source": [
    "# Center and level image\n",
    "xfm = ndi.shift(im, shift=(-20, -20))\n",
    "xfm = ndi.rotate(xfm, angle=-35, reshape=False)\n",
    "\n",
    "# Resample image\n",
    "im_dn = ndi.zoom(xfm, zoom=0.25)\n",
    "im_up = ndi.zoom(xfm, zoom=4)\n",
    "\n",
    "# Plot the images\n",
    "fig, axes = plt.subplots(2, 1)\n",
    "axes[0].imshow(im_dn)\n",
    "axes[1].imshow(im_up)\n",
    "format_and_render_plot()"
   ]
  },
  {
   "cell_type": "code",
   "execution_count": null,
   "metadata": {},
   "outputs": [],
   "source": [
    "# Upsample \"im\" by a factor of 4\n",
    "up0 = ndi.zoom(im, zoom=4, order=0)\n",
    "up5 = ndi.zoom(im, zoom=4, order=5)\n",
    "\n",
    "# Print original and new shape\n",
    "print('Original shape:', im.shape)\n",
    "print('Upsampled shape:', up5.shape)\n",
    "\n",
    "# Plot close-ups of the new images\n",
    "fig, axes = plt.subplots(1, 2)\n",
    "axes[0].imshow(up0[128:256, 128:256])\n",
    "axes[1].imshow(up5[128:256, 128:256])\n",
    "format_and_render_plots()"
   ]
  },
  {
   "cell_type": "markdown",
   "metadata": {},
   "source": [
    "Comparing Images"
   ]
  },
  {
   "cell_type": "code",
   "execution_count": null,
   "metadata": {},
   "outputs": [],
   "source": [
    "# Calculate absolute image difference\n",
    "abs_err = np.abs(im1 - im2)\n",
    "\n",
    "# Plot the difference\n",
    "plt.imshow(abs_err, cmap='seismic', vmin=-200, vmax=200)\n",
    "format_and_render_plot()"
   ]
  }
 ],
 "metadata": {
  "kernelspec": {
   "display_name": "MSThesisWorks",
   "language": "python",
   "name": "python3"
  },
  "language_info": {
   "name": "python",
   "version": "3.10.11"
  }
 },
 "nbformat": 4,
 "nbformat_minor": 2
}
