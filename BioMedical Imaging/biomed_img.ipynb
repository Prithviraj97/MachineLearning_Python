{
 "cells": [
  {
   "cell_type": "code",
   "execution_count": null,
   "metadata": {},
   "outputs": [],
   "source": []
  },
  {
   "cell_type": "code",
   "execution_count": null,
   "metadata": {},
   "outputs": [],
   "source": [
    "# Import ImageIO and PyPlot \n",
    "import imageio\n",
    "import matplotlib.pyplot as plt\n",
    "\n",
    "# Read in \"chest-220.dcm\"\n",
    "im = imageio.imread('chest-220.dcm')\n",
    "# Draw the image in grayscale\n",
    "plt.imshow(im, cmap='gray')\n",
    "\n",
    "# Render the image\n",
    "plt.show()"
   ]
  },
  {
   "cell_type": "code",
   "execution_count": null,
   "metadata": {},
   "outputs": [],
   "source": [
    "# Draw the image with greater contrast\n",
    "plt.imshow(im, vmin=-200, vmax=200, cmap='gray')\n",
    "plt.axis('off')\n",
    "# Render the image\n",
    "plt.show()"
   ]
  },
  {
   "cell_type": "markdown",
   "metadata": {},
   "source": [
    "N-Dimensional Images"
   ]
  },
  {
   "cell_type": "code",
   "execution_count": null,
   "metadata": {},
   "outputs": [],
   "source": [
    "'''In this exercise, we will use NumPy's stack() function to combine several 2D arrays into a 3D volume. By convention, volumetric data should be stacked along the first dimension: vol[plane, row, col].\n",
    "\n",
    "Note: performing any operations on an ImageIO Image object will convert it to a numpy.ndarray, stripping its metadata.'''\n",
    "# Import ImageIO and NumPy\n",
    "import imageio\n",
    "import numpy as np\n",
    "\n",
    "# Read in each 2D image\n",
    "im1 = imageio.imread('chest-220.dcm')\n",
    "im2 = imageio.imread('chest-221.dcm')\n",
    "im3 = imageio.imread('chest-222.dcm')\n",
    "\n",
    "# Stack images into a volume\n",
    "vol = np.stack([im1, im2, im3])\n",
    "print('Volume dimensions:', vol.shape)"
   ]
  },
  {
   "cell_type": "code",
   "execution_count": null,
   "metadata": {},
   "outputs": [],
   "source": [
    "'''Using volread() to load image volumes can be faster and more reliable than loading them in image-by-image. It also preserves image metadata where possible.'''\n",
    "# Import ImageIO\n",
    "import imageio\n",
    "\n",
    "# Load the \"tcia-chest-ct\" directory\n",
    "vol = imageio.volread(\"tcia-chest-ct\")\n",
    "\n",
    "# Print image attributes\n",
    "print('Available metadata:', vol.meta.keys())\n",
    "print('Shape of image array:', vol.shape)"
   ]
  },
  {
   "cell_type": "code",
   "execution_count": null,
   "metadata": {},
   "outputs": [],
   "source": [
    "'''Field of view\n",
    "The amount of physical space covered by an image is its field of view, which is calculated from two properties:\n",
    "Array shape, the number of data elements on each axis. Can be accessed with the shape attribute.\n",
    "Sampling resolution, the amount of physical space covered by each pixel. Sometimes available in metadata (e.g., meta['sampling']).'''\n",
    "n0, n1, n2 = vol.shape\n",
    "d0, d1, d2 = vol.meta['sampling']\n",
    "print(n0 * d0, n1 * d1, n2 * d2)"
   ]
  },
  {
   "cell_type": "markdown",
   "metadata": {},
   "source": []
  },
  {
   "cell_type": "code",
   "execution_count": null,
   "metadata": {},
   "outputs": [],
   "source": [
    "# Import PyPlot\n",
    "import matplotlib.pyplot as plt\n",
    "# Initialize figure and axes grid\n",
    "fig, axes = plt.subplots(nrows=2, ncols=1)\n",
    "# Draw an image on each subplot\n",
    "axes[0].imshow(im1, cmap='gray')\n",
    "axes[1].imshow(im2, cmap='gray')\n",
    "\n",
    "# Remove ticks/labels and render\n",
    "axes[0].axis('off')\n",
    "axes[1].axis('off')\n",
    "plt.show()"
   ]
  },
  {
   "cell_type": "code",
   "execution_count": null,
   "metadata": {},
   "outputs": [],
   "source": [
    "'''When selecting frames, any trailing : symbols are implicitly selected. For example, vol[5] is the same as vol[5,:,:]. We will follow this simpler convention moving forward.'''\n",
    "# Plot the images on a subplots array \n",
    "fig, axes = plt.subplots(nrows=1, ncols=4)\n",
    "\n",
    "# Loop through subplots and draw image\n",
    "for ii in range(4):\n",
    "    im = vol[ii * 40,:,:]\n",
    "    axes[ii].imshow(im, cmap='gray')\n",
    "    axes[ii].axis('off')\n",
    "    \n",
    "# Render the figure\n",
    "plt.show()"
   ]
  },
  {
   "cell_type": "code",
   "execution_count": null,
   "metadata": {},
   "outputs": [],
   "source": [
    "# Environment Setup\n",
    "from requests import get\n",
    "from io import BytesIO\n",
    "from zipfile import ZipFile\n",
    "\n",
    "url1 = 'https://assets.datacamp.com/production/repositories/2085/datasets/8a007b3d94cc45c452d2c6e2bf96228b41827253/tcia-chest-ct-vol.zip'\n",
    "url2 = 'https://assets.datacamp.com/production/repositories/2085/datasets/f44726fefae841afd24ddf83c58f34722212e67a/tcia-chest-ct-sample.zip'\n",
    "for url in [url1, url2]:\n",
    "    bfile = BytesIO(get(url).content)\n",
    "    with ZipFile(bfile, \"r\") as z:\n",
    "        z.extractall()\n",
    "\n",
    "# Exercise Setup\n",
    "import imageio\n",
    "from numpy import load\n",
    "import matplotlib.pyplot as plt\n",
    "\n",
    "im = imageio.imread('chest-220.dcm')\n",
    "vol = load('tcia-chest-ct.npz')['arr_0']\n",
    "# vol = (vol / 255) * 4071 - 1000\n",
    "vol = imageio.core.Image(vol, meta=im.meta)\n",
    "vol.meta['sampling'] = (3.269999999999996, 0.976562, 0.976562)\n",
    "vol.meta['shape'] = (vol.shape[0], 512, 512)\n",
    "del im\n",
    "# Select frame from \"vol\"\n",
    "im1 = vol[:, 256, :]\n",
    "im2 = vol[:, :, 256]\n",
    "\n",
    "# Compute aspect ratios\n",
    "d0, d1, d2 = vol.meta['sampling']\n",
    "asp1 = d0 / d2\n",
    "asp2 = d1 / d2\n",
    "\n",
    "# Plot the images on a subplots array \n",
    "fig, axes = plt.subplots(nrows=2, ncols=2)"
   ]
  },
  {
   "cell_type": "code",
   "execution_count": null,
   "metadata": {},
   "outputs": [],
   "source": [
    "# Select frame from \"vol\"\n",
    "im1 = vol[:, 256, :]\n",
    "im2 = vol[:, :, 256]\n",
    "\n",
    "# Compute aspect ratios\n",
    "d0, d1, d2 = vol.meta['sampling']\n",
    "asp1 = d0 / d2\n",
    "asp2 = d0 / d1\n",
    "\n",
    "# Plot the images on a subplots array \n",
    "fig, axes = plt.subplots(nrows=2, ncols=1)\n",
    "axes[0].imshow(im1, cmap='gray', aspect=asp1)\n",
    "axes[1].imshow(im2, cmap='gray', aspect=asp2)\n",
    "\n",
    "plt.show()"
   ]
  },
  {
   "cell_type": "markdown",
   "metadata": {},
   "source": [
    "Mask and Filters - image intensity, mask, filter, smoothing"
   ]
  },
  {
   "cell_type": "code",
   "execution_count": null,
   "metadata": {},
   "outputs": [],
   "source": [
    "def format_and_render_plot():\n",
    "    '''Custom function to simplify common formatting operations for exercises. Operations include: \n",
    "    1. Turning off axis grids.\n",
    "    2. Calling `plt.tight_layout` to improve subplot spacing.\n",
    "    3. Calling `plt.show()` to render plot.'''\n",
    "    fig = plt.gcf()\n",
    "    fig.axes[0].axis('off')\n",
    "    plt.tight_layout()\n",
    "    plt.show()"
   ]
  },
  {
   "cell_type": "code",
   "execution_count": null,
   "metadata": {},
   "outputs": [],
   "source": [
    "import imageio\n",
    "import numpy as np\n",
    "import matplotlib.pyplot as plt\n",
    "\n",
    "# Load the hand radiograph\n",
    "im = imageio.imread('hand-xray.jpg')\n",
    "print('Data type:', np.dtype(np.uint8))\n",
    "print('Min. value:', np.min(im))\n",
    "print('Max value:', np.max(im))\n",
    "\n",
    "# Plot the grayscale image\n",
    "plt.imshow(im, vmin=0, vmax=255)\n",
    "plt.colorbar()\n",
    "format_and_render_plot()"
   ]
  },
  {
   "cell_type": "code",
   "execution_count": null,
   "metadata": {},
   "outputs": [],
   "source": [
    "# Import SciPy's \"ndimage\" module\n",
    "import scipy.ndimage as ndi \n",
    "\n",
    "# Create a histogram, binned at each possible value\n",
    "hist = ndi.histogram(im, min=0, max=255, bins=256)\n",
    "\n",
    "# Create a cumulative distribution function\n",
    "cdf = hist.cumsum() / hist.sum()\n",
    "\n",
    "# Plot the histogram and CDF\n",
    "fig, axes = plt.subplots(2, 1, sharex=True)\n",
    "axes[0].plot(hist, label='Histogram')\n",
    "axes[1].plot(cdf, label='CDF')\n",
    "format_and_render_plot()"
   ]
  },
  {
   "cell_type": "code",
   "execution_count": null,
   "metadata": {},
   "outputs": [],
   "source": []
  }
 ],
 "metadata": {
  "kernelspec": {
   "display_name": "MSThesisWorks",
   "language": "python",
   "name": "python3"
  },
  "language_info": {
   "name": "python",
   "version": "3.10.11"
  }
 },
 "nbformat": 4,
 "nbformat_minor": 2
}
