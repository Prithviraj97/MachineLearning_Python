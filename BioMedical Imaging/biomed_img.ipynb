{
 "cells": [
  {
   "cell_type": "code",
   "execution_count": null,
   "metadata": {},
   "outputs": [],
   "source": []
  },
  {
   "cell_type": "code",
   "execution_count": null,
   "metadata": {},
   "outputs": [],
   "source": [
    "# Import ImageIO and PyPlot \n",
    "import imageio\n",
    "import matplotlib.pyplot as plt\n",
    "\n",
    "# Read in \"chest-220.dcm\"\n",
    "im = imageio.imread('chest-220.dcm')\n",
    "# Draw the image in grayscale\n",
    "plt.imshow(im, cmap='gray')\n",
    "\n",
    "# Render the image\n",
    "plt.show()"
   ]
  },
  {
   "cell_type": "code",
   "execution_count": null,
   "metadata": {},
   "outputs": [],
   "source": [
    "# Draw the image with greater contrast\n",
    "plt.imshow(im, vmin=-200, vmax=200, cmap='gray')\n",
    "plt.axis('off')\n",
    "# Render the image\n",
    "plt.show()"
   ]
  },
  {
   "cell_type": "markdown",
   "metadata": {},
   "source": [
    "N-Dimensional Images"
   ]
  },
  {
   "cell_type": "code",
   "execution_count": null,
   "metadata": {},
   "outputs": [],
   "source": [
    "'''In this exercise, we will use NumPy's stack() function to combine several 2D arrays into a 3D volume. By convention, volumetric data should be stacked along the first dimension: vol[plane, row, col].\n",
    "\n",
    "Note: performing any operations on an ImageIO Image object will convert it to a numpy.ndarray, stripping its metadata.'''\n",
    "# Import ImageIO and NumPy\n",
    "import imageio\n",
    "import numpy as np\n",
    "\n",
    "# Read in each 2D image\n",
    "im1 = imageio.imread('chest-220.dcm')\n",
    "im2 = imageio.imread('chest-221.dcm')\n",
    "im3 = imageio.imread('chest-222.dcm')\n",
    "\n",
    "# Stack images into a volume\n",
    "vol = np.stack([im1, im2, im3])\n",
    "print('Volume dimensions:', vol.shape)"
   ]
  },
  {
   "cell_type": "code",
   "execution_count": null,
   "metadata": {},
   "outputs": [],
   "source": [
    "'''Using volread() to load image volumes can be faster and more reliable than loading them in image-by-image. It also preserves image metadata where possible.'''\n",
    "# Import ImageIO\n",
    "import imageio\n",
    "\n",
    "# Load the \"tcia-chest-ct\" directory\n",
    "vol = imageio.volread(\"tcia-chest-ct\")\n",
    "\n",
    "# Print image attributes\n",
    "print('Available metadata:', vol.meta.keys())\n",
    "print('Shape of image array:', vol.shape)"
   ]
  },
  {
   "cell_type": "code",
   "execution_count": null,
   "metadata": {},
   "outputs": [],
   "source": [
    "'''Field of view\n",
    "The amount of physical space covered by an image is its field of view, which is calculated from two properties:\n",
    "Array shape, the number of data elements on each axis. Can be accessed with the shape attribute.\n",
    "Sampling resolution, the amount of physical space covered by each pixel. Sometimes available in metadata (e.g., meta['sampling']).'''\n",
    "n0, n1, n2 = vol.shape\n",
    "d0, d1, d2 = vol.meta['sampling']\n",
    "print(n0 * d0, n1 * d1, n2 * d2)"
   ]
  },
  {
   "cell_type": "code",
   "execution_count": null,
   "metadata": {},
   "outputs": [],
   "source": []
  }
 ],
 "metadata": {
  "language_info": {
   "name": "python"
  }
 },
 "nbformat": 4,
 "nbformat_minor": 2
}
