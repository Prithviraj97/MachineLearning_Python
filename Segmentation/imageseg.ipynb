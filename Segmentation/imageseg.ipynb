{
 "cells": [
  {
   "cell_type": "code",
   "execution_count": null,
   "metadata": {},
   "outputs": [],
   "source": [
    "# Load mask image\n",
    "mask = Image.open(\"annotations/Egyptian_Mau_123.png\")\n",
    "\n",
    "# Transform mask to tensor\n",
    "transform = transforms.Compose([transforms.ToTensor()])\n",
    "mask_tensor = transform(mask)\n",
    "\n",
    "# Create binary mask\n",
    "binary_mask = torch.where(\n",
    "    mask_tensor == 1/255, \n",
    "    torch.tensor(1.0),\n",
    "    torch.tensor(0.0),\n",
    ")\n",
    "\n",
    "# Print unique mask values\n",
    "print(binary_mask.unique())"
   ]
  },
  {
   "cell_type": "code",
   "execution_count": null,
   "metadata": {},
   "outputs": [],
   "source": [
    "# Load image and transform to tensor\n",
    "image = Image.open(\"images/Egyptian_Mau_123.jpg\")\n",
    "transform = transforms.Compose([transforms.ToTensor()])\n",
    "image_tensor = transform(image)\n",
    "\n",
    "# Segment object out of the image\n",
    "object_tensor = image_tensor * binary_mask\n",
    "\n",
    "# Convert segmented object to image and display\n",
    "to_pil_image = transforms.ToPILImage()\n",
    "object_image = to_pil_image(object_tensor)\n",
    "plt.imshow(object_image)\n",
    "plt.show()"
   ]
  },
  {
   "cell_type": "code",
   "execution_count": null,
   "metadata": {},
   "outputs": [],
   "source": [
    "# Import maskrcnn_resnet50_fpn\n",
    "from torchvision.models.detection import maskrcnn_resnet50_fpn\n",
    "\n",
    "# Load a pre-trained Mask R-CNN model\n",
    "model = maskrcnn_resnet50_fpn(pretrained=True)\n",
    "model.eval()\n",
    "\n",
    "# Load an image and convert to a tensor\n",
    "image = Image.open(\"two_cats.jpg\")\n",
    "transform = transforms.Compose([transforms.ToTensor()])\n",
    "image_tensor = transform(image).unsqueeze(0)\n",
    "\n",
    "# Perform inference\n",
    "with torch.no_grad():\n",
    "    prediction = model(image_tensor)\n",
    "    print(prediction)\n",
    "\n",
    "# Extract masks and labels from prediction\n",
    "masks = prediction[0][\"masks\"]\n",
    "labels = prediction[0][\"labels\"]\n",
    "\n",
    "# Plot image with two overlaid masks\n",
    "for i in range(2):\n",
    "    plt.imshow(image)\n",
    "    # Overlay the i-th mask on top of the image\n",
    "    plt.imshow(masks[i,0], cmap=\"jet\", alpha=0.5)\n",
    "    plt.title(f\"Object: {class_names[labels[i]]}\")\n",
    "    plt.show()"
   ]
  },
  {
   "cell_type": "markdown",
   "metadata": {},
   "source": []
  },
  {
   "cell_type": "code",
   "execution_count": null,
   "metadata": {},
   "outputs": [],
   "source": [
    "class UNet(nn.Module):\n",
    "    def __init__(self, in_channels, out_channels):\n",
    "        super(UNet, self).__init__()\n",
    "\n",
    "        self.enc1 = self.conv_block(in_channels, 64)\n",
    "        self.enc2 = self.conv_block(64, 128)\n",
    "        self.enc3 = self.conv_block(128, 256)\n",
    "        self.enc4 = self.conv_block(256, 512)\n",
    "\n",
    "        self.pool = nn.MaxPool2d(kernel_size=2, stride=2)\n",
    "\n",
    "        self.upconv3 = nn.ConvTranspose2d(512, 256, kernel_size=2, stride=2)\n",
    "        self.upconv2 = nn.ConvTranspose2d(256, 128, kernel_size=2, stride=2)\n",
    "        self.upconv1 = nn.ConvTranspose2d(128, 64, kernel_size=2, stride=2)\n",
    "        \n",
    "        # Define the decoder blocks\n",
    "        self.dec1 = self.conv_block(512, 256)\n",
    "        self.dec2 = self.conv_block(256, 128)\n",
    "        self.dec3 = self.conv_block(128, 64)\n",
    "\n",
    "        self.out = nn.Conv2d(64, out_channels, kernel_size=1)"
   ]
  }
 ],
 "metadata": {
  "kernelspec": {
   "display_name": "MSThesisWorks",
   "language": "python",
   "name": "python3"
  },
  "language_info": {
   "name": "python",
   "version": "3.10.11"
  }
 },
 "nbformat": 4,
 "nbformat_minor": 2
}
