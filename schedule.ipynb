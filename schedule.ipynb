{
 "cells": [
  {
   "cell_type": "code",
   "execution_count": 1,
   "id": "74791dfd",
   "metadata": {},
   "outputs": [
    {
     "name": "stderr",
     "output_type": "stream",
     "text": [
      "ERROR: Could not find a version that satisfies the requirement caas_jupyter_tools (from versions: none)\n",
      "ERROR: No matching distribution found for caas_jupyter_tools\n"
     ]
    },
    {
     "name": "stdout",
     "output_type": "stream",
     "text": [
      "Note: you may need to restart the kernel to use updated packages.\n"
     ]
    }
   ],
   "source": [
    "%pip install caas_jupyter_tools\n",
    "import pandas as pd"
   ]
  },
  {
   "cell_type": "code",
   "execution_count": 3,
   "id": "3f0dafff",
   "metadata": {},
   "outputs": [],
   "source": [
    "\n",
    "\n",
    "# Create schedule dataframe based on the extracted text from the PDF\n",
    "schedule_data = {\n",
    "    \"Time\": [\n",
    "        \"9 AM - 10 AM\", \n",
    "        \"10 AM - 11 AM\", \n",
    "        \"11 AM - 12 PM\", \n",
    "        \"12 PM - 1 PM\", \n",
    "        \"1 PM - 2 PM\", \n",
    "        \"2 PM - 3 PM\", \n",
    "        \"3 PM - 4 PM\", \n",
    "        \"4 PM - 5 PM\", \n",
    "        \"5 PM - 6 PM\"\n",
    "    ],\n",
    "    \"Monday\": [\n",
    "        \"CS282 A\\n(Drew 229)\", \n",
    "        \"CS281 A\\n(Drew 229)\", \n",
    "        \"CS281 B\\n(Drew 228)\", \n",
    "        \"Office Hour\\n(Drew 206)\", \n",
    "        \"CS281 A Lab\\n(Drew 229)\", \n",
    "        \"CS281 B Lab\\n(Drew 228)\", \n",
    "        \"\", \n",
    "        \"\", \n",
    "        \"\"\n",
    "    ],\n",
    "    \"Tuesday\": [\n",
    "        \"Office Hour\\n(Drew 206)\", \n",
    "        \"CS431 Machine Learning\\n(Drew 320)\", \n",
    "        \"\", \n",
    "        \"CS282 A\\n(Drew 229)\", \n",
    "        \"CS281 A\\n(Drew 229)\", \n",
    "        \"CS281 B\\n(Drew 228)\", \n",
    "        \"\", \n",
    "        \"\", \n",
    "        \"\"\n",
    "    ],\n",
    "    \"Wednesday\": [\n",
    "        \"Office Hour\\n(Drew 206)\", \n",
    "        \"CS282 A Lab\\n(Drew 229)\", \n",
    "        \"Office Hour\\n(Drew 206)\", \n",
    "        \"\", \n",
    "        \"\", \n",
    "        \"Office Hour\\n(Drew 206)\", \n",
    "        \"\", \n",
    "        \"\", \n",
    "        \"\"\n",
    "    ],\n",
    "    \"Thursday\": [\n",
    "        \"CS431 Machine Learning\\n(Drew 320)\", \n",
    "        \"CS282 A\\n(Drew 229)\", \n",
    "        \"CS281 A\\n(Drew 229)\", \n",
    "        \"CS281 B\\n(Drew 228)\", \n",
    "        \"\", \n",
    "        \"\", \n",
    "        \"\", \n",
    "        \"\", \n",
    "        \"\"\n",
    "    ],\n",
    "    \"Friday\": [\n",
    "        \"\", \n",
    "        \"\", \n",
    "        \"\", \n",
    "        \"\", \n",
    "        \"\", \n",
    "        \"\", \n",
    "        \"\", \n",
    "        \"\", \n",
    "        \"\"\n",
    "    ]\n",
    "}\n",
    "\n",
    "df = pd.DataFrame(schedule_data)\n",
    "\n",
    "# # Save to Excel for user to edit\n",
    "# file_path = \"Teaching_Schedule.xlsx\"\n",
    "# df.to_excel(file_path, index=False)\n",
    "\n",
    "# import caas_jupyter_tools\n",
    "# caas_jupyter_tools.display_dataframe_to_user(\"Teaching Schedule\", df)\n",
    "\n",
    "# file_path\n"
   ]
  },
  {
   "cell_type": "code",
   "execution_count": null,
   "id": "1dad3e32",
   "metadata": {},
   "outputs": [],
   "source": [
    "df"
   ]
  }
 ],
 "metadata": {
  "kernelspec": {
   "display_name": "DataCamp",
   "language": "python",
   "name": "python3"
  },
  "language_info": {
   "codemirror_mode": {
    "name": "ipython",
    "version": 3
   },
   "file_extension": ".py",
   "mimetype": "text/x-python",
   "name": "python",
   "nbconvert_exporter": "python",
   "pygments_lexer": "ipython3",
   "version": "3.12.0"
  }
 },
 "nbformat": 4,
 "nbformat_minor": 5
}
