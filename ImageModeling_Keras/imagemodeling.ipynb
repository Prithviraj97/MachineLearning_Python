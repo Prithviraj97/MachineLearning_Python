{
 "cells": [
  {
   "cell_type": "code",
   "execution_count": null,
   "metadata": {},
   "outputs": [],
   "source": [
    "import numpy as np\n",
    "import pandas as pd"
   ]
  },
  {
   "cell_type": "code",
   "execution_count": null,
   "metadata": {},
   "outputs": [],
   "source": [
    "# Import matplotlib\n",
    "import matplotlib.pyplot as plt\n",
    "# Load the image\n",
    "data = plt.imread('bricks.png')\n",
    "\n",
    "# Display the image\n",
    "plt.imshow(data)\n",
    "plt.show()"
   ]
  },
  {
   "cell_type": "code",
   "execution_count": null,
   "metadata": {},
   "outputs": [],
   "source": [
    "# Set the red channel in this part of the image to 1\n",
    "data[:10, :10, 0] = 1\n",
    "\n",
    "# Set the green channel in this part of the image to 0\n",
    "data[:10, :10, 1] = 0\n",
    "\n",
    "# Set the blue channel in this part of the image to 0\n",
    "data[:10, :10, 2] = 0\n",
    "\n",
    "# Visualize the result\n",
    "plt.imshow(data)\n",
    "plt.show()"
   ]
  },
  {
   "cell_type": "code",
   "execution_count": null,
   "metadata": {},
   "outputs": [],
   "source": [
    "# The number of image categories\n",
    "n_categories = 3\n",
    "\n",
    "# The unique values of categories in the data\n",
    "categories = np.array([\"shirt\", \"dress\", \"shoe\"])\n",
    "\n",
    "# Initialize ohe_labels as all zeros\n",
    "ohe_labels = np.zeros((len(labels), n_categories))\n",
    "\n",
    "# Loop over the labels\n",
    "for ii in range(len(labels)):\n",
    "    # Find the location of this label in the categories variable\n",
    "    jj = np.where(categories == labels[ii])\n",
    "    # Set the corresponding zero to one\n",
    "    ohe_labels[ii, jj] = 1\n",
    "\n",
    "# Calculate the number of correct predictions\n",
    "number_correct = (test_labels * predictions).sum()\n",
    "print(number_correct)\n",
    "\n",
    "# Calculate the proportion of correct predictions\n",
    "proportion_correct = number_correct/len(predictions)\n",
    "print(proportion_correct)"
   ]
  },
  {
   "cell_type": "markdown",
   "metadata": {},
   "source": [
    "Image classification with Keras"
   ]
  },
  {
   "cell_type": "code",
   "execution_count": null,
   "metadata": {},
   "outputs": [],
   "source": [
    "'''The training data is provided as two variables: train_data that contains the pixel data for 50 images of the three clothing classes and train_labels'''\n",
    "# Imports components from Keras\n",
    "from keras.models import Sequential\n",
    "from keras.layers import Dense\n",
    "\n",
    "# Initializes a sequential model\n",
    "model = Sequential()\n",
    "\n",
    "model.add(Dense(10, activation='relu', input_shape=(784,)))\n",
    "model.add(Dense(10, activation='relu'))\n",
    "model.add(Dense(3, activation='softmax'))\n",
    "\n",
    "# Compile the model\n",
    "model.compile(optimizer='adam', \n",
    "           loss='categorical_crossentropy', \n",
    "           metrics=['accuracy'])\n",
    "\n",
    "# Reshape the data to two-dimensional array\n",
    "train_data = train_data.reshape(50, 784)\n",
    "# Fit the model\n",
    "model.fit(train_data, train_labels, validation_split=0.2, epochs=3)\n",
    "# Reshape test data\n",
    "test_data = test_data.reshape(10, 784)\n",
    "# Evaluate the model\n",
    "model.evaluate(test_data, test_labels)"
   ]
  }
 ],
 "metadata": {
  "language_info": {
   "name": "python"
  }
 },
 "nbformat": 4,
 "nbformat_minor": 2
}
